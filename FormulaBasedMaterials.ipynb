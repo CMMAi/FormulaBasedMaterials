{
 "cells": [
  {
   "cell_type": "code",
   "execution_count": 1,
   "metadata": {
    "scrolled": true
   },
   "outputs": [],
   "source": [
    "import numpy as np\n",
    "import matplotlib.pyplot as plt\n",
    "%matplotlib inline\n",
    "\n",
    "from FormulaBasedMaterials import SingleFormulaBasedMaterials\n",
    "\n",
    "# # fBM=formulaBasedMaterials()\n",
    "# SingleFM=SingleFormulaBasedMaterials(unit='random', l=10, r=[1,1,1], a=[1,1,1], eps=0.2, res=0.2, png=True, smooth=True)\n",
    "# SingleFM.save2stl()"
   ]
  },
  {
   "cell_type": "code",
   "execution_count": null,
   "metadata": {},
   "outputs": [
    {
     "data": {
      "image/png": "[encoded data removed]",
      "text/plain": [
       "<Figure size 432x288 with 1 Axes>"
      ]
     },
     "metadata": {
      "needs_background": "light"
     },
     "output_type": "display_data"
    }
   ],
   "source": [
    "a=[1, 1, 1]\n",
    "r=[2, 2, 2]\n",
    "res=0.1\n",
    "l=10\n",
    "\n",
    "eps_i=0.1\n",
    "desired_porosity=0.7\n",
    "\n",
    "for i in range(1000):    \n",
    "    \n",
    "    SFM=SingleFormulaBasedMaterials(unit='random', l=l, r=r, a=a, eps=eps_i, res=res)\n",
    "    p = SFM.get_porosity()\n",
    "    print('try eps = {}'.format(eps_i))\n",
    "    if np.abs(p - desired_porosity)<0.1:\n",
    "        print(p)\n",
    "        break\n",
    "    else:\n",
    "        eps_i = eps_i + 0.01\n",
    "        \n",
    "SFM.save2stl()    \n",
    "\n",
    "# #%%\n",
    "# xl = np.linspace(0, 2, 5)\n",
    "\n",
    "# verts, faces, normals, values = measure.marching_cubes_lewiner(formula, 0, spacing=[np.diff(xl)[0]]*3)\n",
    "# verts -= 3\n",
    "\n",
    "# fig = plt.figure()\n",
    "# ax = fig.add_subplot(111, projection='3d')\n",
    "# ax.plot_trisurf(verts[:, 0], verts[:, 1], faces, verts[:, 2])#, cmap='jet', lw=0)\n",
    "# plt.title(formula_str)\n",
    "# plt.show()\n"
   ]
  },
  {
   "cell_type": "code",
   "execution_count": null,
   "metadata": {},
   "outputs": [],
   "source": []
  }
 ],
 "metadata": {
  "kernelspec": {
   "display_name": "Python 3",
   "language": "python",
   "name": "python3"
  },
  "language_info": {
   "codemirror_mode": {
    "name": "ipython",
    "version": 3
   },
   "file_extension": ".py",
   "mimetype": "text/x-python",
   "name": "python",
   "nbconvert_exporter": "python",
   "pygments_lexer": "ipython3",
   "version": "3.7.4"
  }
 },
 "nbformat": 4,
 "nbformat_minor": 2
}
