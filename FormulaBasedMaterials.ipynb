{
 "cells": [
  {
   "cell_type": "code",
   "execution_count": 1,
   "metadata": {
    "scrolled": true
   },
   "outputs": [
    {
     "data": {
      "image/png": "[encoded data removed]",
      "text/plain": [
       "<Figure size 432x288 with 1 Axes>"
      ]
     },
     "metadata": {
      "needs_background": "light"
     },
     "output_type": "display_data"
    },
    {
     "name": "stdout",
     "output_type": "stream",
     "text": [
      "save stl model to user-defined_1x1x1_r0.2\n"
     ]
    }
   ],
   "source": [
    "import numpy as np\n",
    "import matplotlib.pyplot as plt\n",
    "%matplotlib inline\n",
    "\n",
    "import FormulaBasedMaterials as FBM\n",
    "\n",
    "SFBM=FBM.SingleFormulaBasedMaterials(formula='sin(x)*cos(y)+sin(y)*cos(z)+sin(z)*cos(x)+1.5', l=10, r=[1,1,1], a=[1,1,1], eps=0.2, res=0.2, png=True, smooth=True)\n",
    "SFBM.save2stl()"
   ]
  },
  {
   "cell_type": "code",
   "execution_count": 2,
   "metadata": {},
   "outputs": [
    {
     "data": {
      "image/png": "[encoded data removed]",
      "text/plain": [
       "<Figure size 432x288 with 1 Axes>"
      ]
     },
     "metadata": {
      "needs_background": "light"
     },
     "output_type": "display_data"
    },
    {
     "name": "stdout",
     "output_type": "stream",
     "text": [
      "save stl model to random_2x2x2_r0.1\n",
      "Final eps = 0.5437900000000001 and porosity = 0.70092\n"
     ]
    }
   ],
   "source": [
    "a=[1, 1, 1]\n",
    "r=[2, 2, 2]\n",
    "res=0.1\n",
    "l=10\n",
    "\n",
    "eps_i=0.5\n",
    "desired_porosity=0.7\n",
    "tol=1e-3\n",
    "SFBM=FBM.SingleFormulaBasedMaterials(unit='random', l=l, r=r, a=a, eps=eps_i, res=res)\n",
    "\n",
    "for i in range(1000):    \n",
    "    \n",
    "    p = SFBM.get_porosity()\n",
    "    print('Trying eps = {} and porosity = {}'.format(eps_i, p))\n",
    "    diff = np.abs(p - desired_porosity)\n",
    "    \n",
    "    if diff < tol:\n",
    "        break\n",
    "        \n",
    "    elif p < desired_porosity:\n",
    "        eps_i -= diff\n",
    "        SFBM.update_eps(eps_i)\n",
    "        continue\n",
    "        \n",
    "    else:\n",
    "        eps_i += diff\n",
    "        SFBM.update_eps(eps_i)\n",
    "\n",
    "\n",
    "SFBM.save2stl()    \n",
    "print('Final eps = {} and porosity = {}'.format(eps_i, p))\n",
    "# #%%\n",
    "# xl = np.linspace(0, 2, 5)\n",
    "\n",
    "# verts, faces, normals, values = measure.marching_cubes_lewiner(formula, 0, spacing=[np.diff(xl)[0]]*3)\n",
    "# verts -= 3\n",
    "\n",
    "# fig = plt.figure()\n",
    "# ax = fig.add_subplot(111, projection='3d')\n",
    "# ax.plot_trisurf(verts[:, 0], verts[:, 1], faces, verts[:, 2])#, cmap='jet', lw=0)\n",
    "# plt.title(formula_str)\n",
    "# plt.show()\n"
   ]
  },
  {
   "cell_type": "code",
   "execution_count": 3,
   "metadata": {},
   "outputs": [
    {
     "data": {
      "image/png": "[encoded data removed]",
      "text/plain": [
       "<Figure size 432x288 with 1 Axes>"
      ]
     },
     "metadata": {
      "needs_background": "light"
     },
     "output_type": "display_data"
    },
    {
     "name": "stdout",
     "output_type": "stream",
     "text": [
      "save stl model to gyroid_2x2x2_r0.1\n",
      "Final eps = 0.46427200000000035 and porosity = 0.70016\n"
     ]
    }
   ],
   "source": [
    "a=[1, 1, 1]\n",
    "r=[2, 2, 2]\n",
    "res=0.1\n",
    "l=10\n",
    "\n",
    "eps_i=0.\n",
    "desired_porosity=0.7\n",
    "tol=1e-3\n",
    "SFBM=FBM.SingleFormulaBasedMaterials(unit='gyroid', l=l, r=r, a=a, eps=eps_i, res=res)\n",
    "\n",
    "for i in range(1000):    \n",
    "    \n",
    "    p = SFBM.get_porosity()\n",
    "    print('Trying eps = {} and porosity = {}'.format(eps_i, p))\n",
    "    diff = np.abs(p - desired_porosity)\n",
    "    \n",
    "    if diff < tol:\n",
    "        break\n",
    "        \n",
    "    elif p < desired_porosity:\n",
    "        eps_i -= diff\n",
    "        SFBM.update_eps(eps_i)\n",
    "        continue\n",
    "        \n",
    "    else:\n",
    "        eps_i += diff\n",
    "        SFBM.update_eps(eps_i)\n",
    "\n",
    "\n",
    "SFBM.save2stl()    \n",
    "print('Final eps = {} and porosity = {}'.format(eps_i, p))\n",
    "# #%%\n",
    "# xl = np.linspace(0, 2, 5)\n",
    "\n",
    "# verts, faces, normals, values = measure.marching_cubes_lewiner(formula, 0, spacing=[np.diff(xl)[0]]*3)\n",
    "# verts -= 3\n",
    "\n",
    "# fig = plt.figure()\n",
    "# ax = fig.add_subplot(111, projection='3d')\n",
    "# ax.plot_trisurf(verts[:, 0], verts[:, 1], faces, verts[:, 2])#, cmap='jet', lw=0)\n",
    "# plt.title(formula_str)\n",
    "# plt.show()\n"
   ]
  },
  {
   "cell_type": "code",
   "execution_count": 4,
   "metadata": {},
   "outputs": [
    {
     "data": {
      "image/png": "[encoded data removed]",
      "text/plain": [
       "<Figure size 432x288 with 1 Axes>"
      ]
     },
     "metadata": {
      "needs_background": "light"
     },
     "output_type": "display_data"
    },
    {
     "name": "stdout",
     "output_type": "stream",
     "text": [
      "save stl model to gyroid_1x1x1_r0.1\n"
     ]
    }
   ],
   "source": [
    "SFBM = FBM.SingleFormulaBasedMaterials(unit='gyroid', eps=0.0)\n",
    "SFBM.save2stl()"
   ]
  },
  {
   "cell_type": "code",
   "execution_count": null,
   "metadata": {},
   "outputs": [
    {
     "name": "stdout",
     "output_type": "stream",
     "text": [
      "Using formula: sin(x)*cos(y)+sin(y)*cos(z)+sin(z)*cos(x)\n",
      "Finding matched material, but porosity: 0.998832 is too high. Update eps with 0.001\n",
      "Finding matched material, but porosity: 0.998064 is too high. Update eps with 0.002\n",
      "Finding matched material, but porosity: 0.997584 is too high. Update eps with 0.003\n",
      "Finding matched material, but porosity: 0.996624 is too high. Update eps with 0.004\n",
      "Finding matched material, but porosity: 0.996336 is too high. Update eps with 0.005\n",
      "Finding matched material, but porosity: 0.995856 is too high. Update eps with 0.006\n",
      "Finding matched material, but porosity: 0.994992 is too high. Update eps with 0.007\n",
      "Finding matched material, but porosity: 0.994224 is too high. Update eps with 0.008\n"
     ]
    }
   ],
   "source": [
    "HFBM = FBM.HierarchicalFormulaBasedMaterials(unit='gyroid', eps=0.0)\n",
    "HFBM.save2stl()"
   ]
  },
  {
   "cell_type": "code",
   "execution_count": null,
   "metadata": {},
   "outputs": [],
   "source": []
  }
 ],
 "metadata": {
  "kernelspec": {
   "display_name": "Python 3",
   "language": "python",
   "name": "python3"
  },
  "language_info": {
   "codemirror_mode": {
    "name": "ipython",
    "version": 3
   },
   "file_extension": ".py",
   "mimetype": "text/x-python",
   "name": "python",
   "nbconvert_exporter": "python",
   "pygments_lexer": "ipython3",
   "version": "3.7.4"
  }
 },
 "nbformat": 4,
 "nbformat_minor": 2
}
