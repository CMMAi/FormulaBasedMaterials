{
 "cells": [
  {
   "cell_type": "code",
   "execution_count": 1,
   "metadata": {
    "scrolled": true
   },
   "outputs": [
    {
     "output_type": "stream",
     "name": "stdout",
     "text": [
      "Using formula: sin(x)*cos(y)+sin(y)*cos(z)+sin(z)*cos(x)+1.5\n"
     ]
    },
    {
     "output_type": "error",
     "ename": "FileNotFoundError",
     "evalue": "[Errno 2] No such file or directory: 'user-defined_2x2x2_r0.1/info.txt'",
     "traceback": [
      "\u001b[1;31m---------------------------------------------------------------------------\u001b[0m",
      "\u001b[1;31mFileNotFoundError\u001b[0m                         Traceback (most recent call last)",
      "\u001b[1;32m<ipython-input-1-110f9376cde4>\u001b[0m in \u001b[0;36m<module>\u001b[1;34m\u001b[0m\n\u001b[0;32m     12\u001b[0m \u001b[0meps\u001b[0m\u001b[1;33m\u001b[0m\u001b[1;33m\u001b[0m\u001b[0m\n\u001b[0;32m     13\u001b[0m \u001b[0mGyroid_1_5\u001b[0m\u001b[1;33m=\u001b[0m\u001b[0mFBM\u001b[0m\u001b[1;33m.\u001b[0m\u001b[0mSingleFormulaBasedMaterial\u001b[0m\u001b[1;33m(\u001b[0m\u001b[0mformula\u001b[0m\u001b[1;33m=\u001b[0m\u001b[1;34m'sin(x)*cos(y)+sin(y)*cos(z)+sin(z)*cos(x)+1.5'\u001b[0m\u001b[1;33m,\u001b[0m \u001b[0ml\u001b[0m\u001b[1;33m=\u001b[0m\u001b[0ml\u001b[0m\u001b[1;33m,\u001b[0m \u001b[0mr\u001b[0m\u001b[1;33m=\u001b[0m\u001b[0mr\u001b[0m\u001b[1;33m,\u001b[0m \u001b[0ma\u001b[0m\u001b[1;33m=\u001b[0m\u001b[0ma\u001b[0m\u001b[1;33m,\u001b[0m \u001b[0meps\u001b[0m\u001b[1;33m=\u001b[0m\u001b[0meps\u001b[0m\u001b[1;33m,\u001b[0m \u001b[0mres\u001b[0m\u001b[1;33m=\u001b[0m\u001b[0mres\u001b[0m\u001b[1;33m)\u001b[0m\u001b[1;33m\u001b[0m\u001b[1;33m\u001b[0m\u001b[0m\n\u001b[1;32m---> 14\u001b[1;33m \u001b[0mGyroid_1_5\u001b[0m\u001b[1;33m.\u001b[0m\u001b[0mformSolid\u001b[0m\u001b[1;33m(\u001b[0m\u001b[1;33m)\u001b[0m\u001b[1;33m\u001b[0m\u001b[1;33m\u001b[0m\u001b[0m\n\u001b[0m",
      "\u001b[1;32m~\\Anaconda3\\lib\\site-packages\\FormulaBasedMaterials\\SingleFormulaBasedMaterial.py\u001b[0m in \u001b[0;36mformSolid\u001b[1;34m(self, save, smooth)\u001b[0m\n\u001b[0;32m    153\u001b[0m         \u001b[1;32mif\u001b[0m \u001b[0msave\u001b[0m\u001b[1;33m:\u001b[0m\u001b[1;33m\u001b[0m\u001b[1;33m\u001b[0m\u001b[0m\n\u001b[0;32m    154\u001b[0m             \u001b[0mos\u001b[0m\u001b[1;33m.\u001b[0m\u001b[0mmakedirs\u001b[0m\u001b[1;33m(\u001b[0m\u001b[1;34m'STL/'\u001b[0m\u001b[1;33m+\u001b[0m\u001b[0mself\u001b[0m\u001b[1;33m.\u001b[0m\u001b[0m_model\u001b[0m\u001b[1;33m,\u001b[0m \u001b[0mexist_ok\u001b[0m\u001b[1;33m=\u001b[0m\u001b[1;32mTrue\u001b[0m\u001b[1;33m)\u001b[0m\u001b[1;33m\u001b[0m\u001b[1;33m\u001b[0m\u001b[0m\n\u001b[1;32m--> 155\u001b[1;33m             \u001b[1;32mwith\u001b[0m \u001b[0mopen\u001b[0m\u001b[1;33m(\u001b[0m\u001b[0mself\u001b[0m\u001b[1;33m.\u001b[0m\u001b[0m_model\u001b[0m\u001b[1;33m+\u001b[0m\u001b[1;34m\"/info.txt\"\u001b[0m\u001b[1;33m,\u001b[0m\u001b[1;34m'w'\u001b[0m\u001b[1;33m)\u001b[0m \u001b[1;32mas\u001b[0m \u001b[0mf\u001b[0m\u001b[1;33m:\u001b[0m\u001b[1;33m\u001b[0m\u001b[1;33m\u001b[0m\u001b[0m\n\u001b[0m\u001b[0;32m    156\u001b[0m                 \u001b[0mprint\u001b[0m\u001b[1;33m(\u001b[0m\u001b[1;34m'Formula: {}'\u001b[0m\u001b[1;33m.\u001b[0m\u001b[0mformat\u001b[0m\u001b[1;33m(\u001b[0m\u001b[0mself\u001b[0m\u001b[1;33m.\u001b[0m\u001b[0m__formula\u001b[0m\u001b[1;33m)\u001b[0m\u001b[1;33m,\u001b[0m \u001b[0mfile\u001b[0m\u001b[1;33m=\u001b[0m\u001b[0mf\u001b[0m\u001b[1;33m)\u001b[0m\u001b[1;33m\u001b[0m\u001b[1;33m\u001b[0m\u001b[0m\n\u001b[0;32m    157\u001b[0m                 \u001b[0mprint\u001b[0m\u001b[1;33m(\u001b[0m\u001b[1;34m'Porosity: {}'\u001b[0m\u001b[1;33m.\u001b[0m\u001b[0mformat\u001b[0m\u001b[1;33m(\u001b[0m\u001b[0mself\u001b[0m\u001b[1;33m.\u001b[0m\u001b[0mget_porosity\u001b[0m\u001b[1;33m(\u001b[0m\u001b[1;33m)\u001b[0m\u001b[1;33m)\u001b[0m\u001b[1;33m,\u001b[0m \u001b[0mfile\u001b[0m\u001b[1;33m=\u001b[0m\u001b[0mf\u001b[0m\u001b[1;33m)\u001b[0m\u001b[1;33m\u001b[0m\u001b[1;33m\u001b[0m\u001b[0m\n",
      "\u001b[1;31mFileNotFoundError\u001b[0m: [Errno 2] No such file or directory: 'user-defined_2x2x2_r0.1/info.txt'"
     ]
    }
   ],
   "source": [
    "import numpy as np\n",
    "import matplotlib.pyplot as plt\n",
    "%matplotlib inline\n",
    "\n",
    "import FormulaBasedMaterials as FBM\n",
    "l=10\n",
    "a=[1, 1, 1]\n",
    "r=[2, 2, 2]\n",
    "eps=0.2\n",
    "res=0.1\n",
    "\n",
    "eps\n",
    "Gyroid_1_5=FBM.SingleFormulaBasedMaterial(formula='sin(x)*cos(y)+sin(y)*cos(z)+sin(z)*cos(x)+1.5', l=l, r=r, a=a, eps=eps, res=res)\n",
    "Gyroid_1_5.formSolid()\n"
   ]
  },
  {
   "cell_type": "code",
   "execution_count": null,
   "metadata": {},
   "outputs": [],
   "source": [
    "a=[1, 1, 1]\n",
    "r=[2, 2, 2]\n",
    "res=0.1\n",
    "l=10\n",
    "\n",
    "eps_i=0.5\n",
    "desired_porosity=0.7\n",
    "tol=1e-3\n",
    "Random=FBM.SingleFormulaBasedMaterial(unit='random', l=l, r=r, a=a, eps=eps_i, res=res)\n",
    "\n",
    "for i in range(1000):    \n",
    "    \n",
    "    p = Random.get_porosity()\n",
    "    print('Trying eps = {} and porosity = {}'.format(eps_i, p))\n",
    "    diff = np.abs(p - desired_porosity)\n",
    "    \n",
    "    if diff < tol:\n",
    "        break\n",
    "        \n",
    "    elif p < desired_porosity:\n",
    "        eps_i -= diff\n",
    "        Random.update_eps(eps_i)\n",
    "        continue\n",
    "        \n",
    "    else:\n",
    "        eps_i += diff\n",
    "        Random.update_eps(eps_i)\n",
    "\n",
    "\n",
    "Random.formSolid()    \n",
    "print('Final eps = {} and porosity = {}'.format(eps_i, p))\n",
    "\n"
   ]
  },
  {
   "cell_type": "code",
   "execution_count": null,
   "metadata": {},
   "outputs": [],
   "source": [
    "a=[1, 1, 1]\n",
    "r=[2, 2, 2]\n",
    "res=0.1\n",
    "l=10\n",
    "\n",
    "eps_i=0.\n",
    "desired_porosity=0.7\n",
    "tol=1e-3\n",
    "Gyroid_0=FBM.SingleFormulaBasedMaterial(unit='Gyroid', l=l, r=r, a=a, eps=eps_i, res=res)\n",
    "\n",
    "for i in range(1000):    \n",
    "    \n",
    "    p = Gyroid_0.get_porosity()\n",
    "    print('Trying eps = {} and porosity = {}'.format(eps_i, p))\n",
    "    diff = np.abs(p - desired_porosity)\n",
    "    \n",
    "    if diff < tol:\n",
    "        break\n",
    "        \n",
    "    elif p < desired_porosity:\n",
    "        eps_i -= diff\n",
    "        Gyroid_0.update_eps(eps_i)\n",
    "        continue\n",
    "        \n",
    "    else:\n",
    "        eps_i += diff\n",
    "        Gyroid_0.update_eps(eps_i)\n",
    "\n",
    "\n",
    "Gyroid_0.formSolid()    \n",
    "print('Final eps = {} and porosity = {}'.format(eps_i, p))\n",
    "\n"
   ]
  },
  {
   "cell_type": "code",
   "execution_count": null,
   "metadata": {},
   "outputs": [],
   "source": [
    "Gyroid_0.update_or(Gyroid_1_5.update_eps(eps_i).get_vox()).formSolid()"
   ]
  },
  {
   "cell_type": "code",
   "execution_count": null,
   "metadata": {},
   "outputs": [],
   "source": [
    "a=[1, 1, 1]\n",
    "r=[2, 2, 2]\n",
    "res=0.1\n",
    "l=10\n",
    "\n",
    "eps_i=0.\n",
    "desired_porosity=0.7\n",
    "tol=1e-3\n",
    "Gyroid_0=FBM.SingleFormulaBasedMaterial(formula='sin(x)*cos(y)+sin(y)*cos(z)+sin(z)*cos(x)+1.5+sin(x)*cos(y)+sin(y)*cos(z)+sin(z)*cos(x)', l=l, r=r, a=a, eps=eps_i, res=res)\n",
    "\n",
    "for i in range(1000):    \n",
    "    \n",
    "    p = Gyroid_0.get_porosity()\n",
    "    print('Trying eps = {} and porosity = {}'.format(eps_i, p))\n",
    "    diff = np.abs(p - desired_porosity)\n",
    "    \n",
    "    if diff < tol:\n",
    "        break\n",
    "        \n",
    "    elif p < desired_porosity:\n",
    "        eps_i -= diff\n",
    "        Gyroid_0.update_eps(eps_i)\n",
    "        continue\n",
    "        \n",
    "    else:\n",
    "        eps_i += diff\n",
    "        Gyroid_0.update_eps(eps_i)\n",
    "\n",
    "\n",
    "Gyroid_0.formSolid()    \n",
    "print('Final eps = {} and porosity = {}'.format(eps_i, p))\n",
    "\n"
   ]
  },
  {
   "cell_type": "code",
   "execution_count": null,
   "metadata": {},
   "outputs": [],
   "source": []
  }
 ],
 "metadata": {
  "kernelspec": {
   "display_name": "Python 3",
   "language": "python",
   "name": "python3"
  },
  "language_info": {
   "codemirror_mode": {
    "name": "ipython",
    "version": 3
   },
   "file_extension": ".py",
   "mimetype": "text/x-python",
   "name": "python",
   "nbconvert_exporter": "python",
   "pygments_lexer": "ipython3",
   "version": "3.7.4-final"
  }
 },
 "nbformat": 4,
 "nbformat_minor": 2
}